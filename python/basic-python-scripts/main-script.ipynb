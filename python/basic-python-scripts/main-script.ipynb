{
 "cells": [
  {
   "cell_type": "code",
   "execution_count": 1,
   "id": "a902c705-86ba-42d4-bb40-e7a38ff4790f",
   "metadata": {},
   "outputs": [
    {
     "name": "stdout",
     "output_type": "stream",
     "text": [
      "it just started\n"
     ]
    }
   ],
   "source": [
    "print(\"it just started\")"
   ]
  },
  {
   "cell_type": "code",
   "execution_count": 5,
   "id": "0e04dc91-9a1f-4252-8afc-4da6d15524ed",
   "metadata": {},
   "outputs": [
    {
     "name": "stdout",
     "output_type": "stream",
     "text": [
      "Learning Indentation\n",
      "\n",
      "Inside the If block\n",
      "Value of x is 0\n",
      "\n",
      "Outside if else block\n"
     ]
    }
   ],
   "source": [
    "x=0\n",
    "\n",
    "print(\"Learning Indentation\")\n",
    "print()\n",
    "\n",
    "if x == 0:\n",
    "    print(\"Inside the If block\")\n",
    "    print(\"Value of x is 0\")\n",
    "else:\n",
    "    print(\"Inside else block\")\n",
    "    print(\"value of x is not 0\")\n",
    "\n",
    "print()\n",
    "print(\"Outside if else block\")"
   ]
  },
  {
   "cell_type": "markdown",
   "id": "8c03636b-3938-4fb5-8427-5166a6bd2e11",
   "metadata": {},
   "source": [
    "# Intro to variables"
   ]
  },
  {
   "cell_type": "code",
   "execution_count": 6,
   "id": "9807f734-4e5d-45a6-90ac-fa5b95ff4664",
   "metadata": {},
   "outputs": [
    {
     "name": "stdout",
     "output_type": "stream",
     "text": [
      "python\n",
      "75\n",
      "3.5\n"
     ]
    }
   ],
   "source": [
    "var1 = \"python\"\n",
    "var2 = 75\n",
    "var3 = 3.5\n",
    "\n",
    "print(var1)\n",
    "print(var2)\n",
    "print(var3)"
   ]
  },
  {
   "cell_type": "code",
   "execution_count": 7,
   "id": "b5eae309-6592-4395-ae75-1ee3c4de20b7",
   "metadata": {},
   "outputs": [
    {
     "name": "stdout",
     "output_type": "stream",
     "text": [
      "55\n",
      "55\n",
      "55\n"
     ]
    }
   ],
   "source": [
    "a = b = c = 55;\n",
    "\n",
    "print(a)\n",
    "print(b)\n",
    "print(c)"
   ]
  },
  {
   "cell_type": "code",
   "execution_count": 13,
   "id": "27af26e0-4433-4f57-9fe6-da16f89fdee0",
   "metadata": {},
   "outputs": [
    {
     "name": "stdout",
     "output_type": "stream",
     "text": [
      "Value of w: alpha\n",
      "Value of x: beta\n",
      "Value of y: 44\n",
      "Value of z: 5.0\n"
     ]
    }
   ],
   "source": [
    "w,x,y,z = \"alpha\", \"beta\",44, 5.0\n",
    "\n",
    "print(\"Value of w:\", w)\n",
    "print(\"Value of x:\", x)\n",
    "print(\"Value of y:\",y)\n",
    "print(\"Value of z:\",z)"
   ]
  },
  {
   "cell_type": "code",
   "execution_count": 16,
   "id": "7642c068-4f8c-4303-b15e-c1a566991673",
   "metadata": {},
   "outputs": [
    {
     "name": "stdout",
     "output_type": "stream",
     "text": [
      "Type of w:  <class 'str'>\n",
      "Type of x:  <class 'str'>\n",
      "Type of y:  <class 'int'>\n",
      "Type of z:  <class 'float'>\n"
     ]
    }
   ],
   "source": [
    "print(\"Type of w: \", type(w))\n",
    "print(\"Type of x: \", type(x))\n",
    "print(\"Type of y: \", type(y))\n",
    "print(\"Type of z: \", type(z))"
   ]
  },
  {
   "cell_type": "code",
   "execution_count": 17,
   "id": "96c07e3d-6a79-4c28-9cf1-59240b62c728",
   "metadata": {},
   "outputs": [
    {
     "name": "stdout",
     "output_type": "stream",
     "text": [
      "['alpha', 'DevOps', 11, 47, 1.5]\n"
     ]
    }
   ],
   "source": [
    "# Strings\n",
    "str1 = \"alpha\"\n",
    "str2 = 'beta'\n",
    "str3 = '''gamma string'''\n",
    "str4 = \"\"\"delta strinfg\"\"\"\n",
    "\n",
    "#numbers\n",
    "num1 = 11\n",
    "flt1 = 11.11\n",
    "\n",
    "# List\n",
    "list_eg = [str1, \"DevOps\", num1, 47, 1.5]\n",
    "\n",
    "#printing list\n",
    "print(list_eg)"
   ]
  },
  {
   "cell_type": "code",
   "execution_count": 18,
   "id": "306b96d6-8cb7-49b5-a1be-b702154a0330",
   "metadata": {},
   "outputs": [
    {
     "name": "stdout",
     "output_type": "stream",
     "text": [
      "('alpha', 'DevOps', 11, 47, 1.5)\n"
     ]
    }
   ],
   "source": [
    "#tuple - cannot be edited. Immutable\n",
    "\n",
    "tuple_eg = (str1, \"DevOps\", num1, 47, 1.5)\n",
    "print(tuple_eg)"
   ]
  },
  {
   "cell_type": "code",
   "execution_count": 19,
   "id": "a6ebc0f0-6a85-4d0f-9418-e7219e6ef5a0",
   "metadata": {},
   "outputs": [
    {
     "name": "stdout",
     "output_type": "stream",
     "text": [
      "{'Name': 'My Name', 'Weight': 75, 'Exercises': ['Boxing', 'Dancing', 'Jogging']}\n"
     ]
    }
   ],
   "source": [
    "# Dictionary - key value pairs\n",
    "\n",
    " = {\"Name\": \"My Name\", \"Weight\":75, \"Exercises\":[\"Boxing\", \"Dancing\", \"Jogging\"] }\n",
    "\n",
    "print(dict_eg)"
   ]
  },
  {
   "cell_type": "code",
   "execution_count": 20,
   "id": "9d9ee3bc-36b4-4cd7-96be-9fe053646133",
   "metadata": {},
   "outputs": [
    {
     "name": "stdout",
     "output_type": "stream",
     "text": [
      "Type of list_eg:  <class 'list'>\n",
      "Type of tuple_eg:  <class 'tuple'>\n",
      "Type of dict_eg:  <class 'dict'>\n"
     ]
    }
   ],
   "source": [
    "print(\"Type of list_eg: \", type(list_eg))\n",
    "print(\"Type of tuple_eg: \", type(tuple_eg))\n",
    "print(\"Type of dict_eg: \", type(dict_eg))"
   ]
  },
  {
   "cell_type": "code",
   "execution_count": 24,
   "id": "46392d2e-4fd2-4a16-96b8-657e1ef110eb",
   "metadata": {},
   "outputs": [
    {
     "name": "stdout",
     "output_type": "stream",
     "text": [
      "Value of x:  True\n",
      "Value of y:  False\n",
      "Type of x: <class 'bool'>\n",
      "Type of y: <class 'bool'>\n"
     ]
    }
   ],
   "source": [
    "#Boolean\n",
    "x = True\n",
    "y = False\n",
    "\n",
    "print(\"Value of x: \",x)\n",
    "print(\"Value of y: \",y)\n",
    "\n",
    "print(\"Type of x:\", type(x))\n",
    "print(\"Type of y:\", type(y)) "
   ]
  },
  {
   "cell_type": "markdown",
   "id": "859f6f92-ab60-44b2-b0c3-2102241696ff",
   "metadata": {},
   "source": [
    "# Printing Format"
   ]
  },
  {
   "cell_type": "markdown",
   "id": "3106ef8b-25cd-4e39-93b9-24e04a6c1538",
   "metadata": {},
   "source": [
    "#### Printing variables using format()"
   ]
  },
  {
   "cell_type": "code",
   "execution_count": 33,
   "id": "052768b5-fd70-4a3e-b8e2-8facdb3c76ee",
   "metadata": {},
   "outputs": [
    {
     "name": "stdout",
     "output_type": "stream",
     "text": [
      "The name of the virus is  sars_cov_2\n",
      "________________________________\n",
      "The name of the virus is sars_cov_2\n",
      "________________________________\n",
      "sars_cov_2 is the name of the virus\n",
      "________________________________\n",
      "The name of virus is sars_cov_2 and it causes Covid19\n",
      "________________________________\n"
     ]
    }
   ],
   "source": [
    "name = \"sars_cov_2\"\n",
    "disease = \"Covid19\"\n",
    "\n",
    "print(\"The name of the virus is \", name)\n",
    "print(\"________________________________\")\n",
    "\n",
    "print(\"The name of the virus is {}\".format(name))\n",
    "print(\"________________________________\")\n",
    "\n",
    "print(\"{} is the name of the virus\".format(name))\n",
    "print(\"________________________________\")\n",
    "\n",
    "print(\"The name of virus is {} and it causes {}\".format(name,disease))\n",
    "print(\"________________________________\")\n"
   ]
  },
  {
   "cell_type": "markdown",
   "id": "f865ebe9-610d-4646-a711-3f3301dc181f",
   "metadata": {},
   "source": [
    "#### printing variables using the f function - works after python 3"
   ]
  },
  {
   "cell_type": "code",
   "execution_count": 31,
   "id": "1092a4ef-d2a7-4550-a917-65ee9b1e1351",
   "metadata": {},
   "outputs": [
    {
     "name": "stdout",
     "output_type": "stream",
     "text": [
      "The name of virus is sars_cov_2 and it causes Covid19\n"
     ]
    }
   ],
   "source": [
    "print(f\"The name of virus is {name} and it causes {disease}\")"
   ]
  },
  {
   "cell_type": "markdown",
   "id": "0c0c6250-1540-4d47-a16c-73db37d91673",
   "metadata": {},
   "source": [
    "#### Concatenation"
   ]
  },
  {
   "cell_type": "code",
   "execution_count": 32,
   "id": "41e77892-3e71-4654-a4b5-6afcc1163a44",
   "metadata": {},
   "outputs": [
    {
     "name": "stdout",
     "output_type": "stream",
     "text": [
      "The name of the virus is sars_cov_2 and it causes Covid19\n"
     ]
    }
   ],
   "source": [
    "print(\"The name of the virus is \" + name + \" and it causes \" + disease)"
   ]
  },
  {
   "cell_type": "markdown",
   "id": "ab1ed381-67f2-4207-9b28-fcbd5cb634f3",
   "metadata": {},
   "source": [
    "# Slicing"
   ]
  },
  {
   "cell_type": "code",
   "execution_count": 49,
   "id": "a3d3061f-0e40-4c77-9b8f-661eeff9404d",
   "metadata": {},
   "outputs": [
    {
     "name": "stdout",
     "output_type": "stream",
     "text": [
      "Closest to Sun\n",
      "C\n",
      "l\n",
      "o\n",
      "reverse-------------------\n",
      "n\n",
      "u\n",
      "S\n",
      "\n",
      "slicing string-------------------\n",
      "Sun\n",
      "Closest\n"
     ]
    }
   ],
   "source": [
    "planet1 = \"Closest to Sun\"\n",
    "print(planet1)\n",
    "\n",
    "print(planet1[0])\n",
    "print(planet1[1])\n",
    "print(planet1[2])\n",
    "\n",
    "print(\"reverse-------------------\")\n",
    "print(planet1[-1])\n",
    "print(planet1[-2])\n",
    "print(planet1[-3])\n",
    "\n",
    "print()\n",
    "print(\"slicing string-------------------\")\n",
    "\n",
    "#Sun\n",
    "print(planet1[11:])\n",
    "\n",
    "#Closest\n",
    "print(planet1[0:7])"
   ]
  },
  {
   "cell_type": "markdown",
   "id": "ada7372d-ecb6-4b0e-a12e-ff5396083f09",
   "metadata": {},
   "source": [
    "#### slicing tuple"
   ]
  },
  {
   "cell_type": "code",
   "execution_count": 61,
   "id": "47306d14-2fe7-4f97-848a-54346d599c1a",
   "metadata": {},
   "outputs": [
    {
     "name": "stdout",
     "output_type": "stream",
     "text": [
      "linux\n",
      "Jenkins\n",
      "Ansible\n",
      "\n",
      "Range------------------\n",
      "('BASH Scripting', 'AWS', 'Jenkins')\n",
      "BASH Scripting\n",
      "Script\n",
      "t\n"
     ]
    }
   ],
   "source": [
    "devops = (\"linux\",\"Vagrant\",\"BASH Scripting\", \"AWS\", \"Jenkins\", \"Python\", \"Ansible\" )\n",
    "\n",
    "print(devops[0])\n",
    "print(devops[4])\n",
    "print(devops[-1])\n",
    "\n",
    "print()\n",
    "print(\"Range------------------\")\n",
    "print(devops[2:5])\n",
    "\n",
    "print(devops[2:5][0])\n",
    "\n",
    "print(devops[2:5][0][5:11])\n",
    "\n",
    "print(devops[2:5][0][5:11][-1])"
   ]
  },
  {
   "cell_type": "markdown",
   "id": "06a9508a-f8c9-4414-9a35-283d90870659",
   "metadata": {},
   "source": [
    "#### slicing list"
   ]
  },
  {
   "cell_type": "code",
   "execution_count": 62,
   "id": "ab7f3859-3c0c-4b18-b4fc-29193e1a8959",
   "metadata": {},
   "outputs": [
    {
     "name": "stdout",
     "output_type": "stream",
     "text": [
      "linux\n",
      "Jenkins\n",
      "Ansible\n",
      "\n",
      "Range------------------\n",
      "['BASH Scripting', 'AWS', 'Jenkins']\n",
      "BASH Scripting\n",
      "Script\n",
      "t\n"
     ]
    }
   ],
   "source": [
    "devops = [\"linux\",\"Vagrant\",\"BASH Scripting\", \"AWS\", \"Jenkins\", \"Python\", \"Ansible\"]\n",
    "\n",
    "print(devops[0])\n",
    "print(devops[4])\n",
    "print(devops[-1])\n",
    "\n",
    "print()\n",
    "print(\"Range------------------\")\n",
    "print(devops[2:5])\n",
    "\n",
    "print(devops[2:5][0])\n",
    "\n",
    "print(devops[2:5][0][5:11])\n",
    "\n",
    "print(devops[2:5][0][5:11][-1])"
   ]
  },
  {
   "cell_type": "markdown",
   "id": "f5049f64-c511-42a4-9094-5da1ffd930ab",
   "metadata": {},
   "source": [
    "#### dictionary vals"
   ]
  },
  {
   "cell_type": "code",
   "execution_count": 73,
   "id": "4712bb90-3a2d-49c4-8169-218ef0123423",
   "metadata": {},
   "outputs": [
    {
     "name": "stdout",
     "output_type": "stream",
     "text": [
      "{'devops': ('AWS', 'Jenkins', 'Python', 'Ansible'), 'Development': ['Java', 'NodeJS', '.NET']}\n",
      "('AWS', 'Jenkins', 'Python', 'Ansible')\n",
      "['Java', 'NodeJS', '.NET']\n",
      "Ansible\n",
      "Ansi\n"
     ]
    }
   ],
   "source": [
    "skills = { \"devops\": (\"AWS\", \"Jenkins\", \"Python\", \"Ansible\"), \"Development\": [\"Java\", \"NodeJS\", \".NET\"] }\n",
    "\n",
    "print(skills)\n",
    "print(skills[\"devops\"])\n",
    "print(skills[\"Development\"])\n",
    "\n",
    "print(skills[\"devops\"][-1])\n",
    "print(skills[\"devops\"][-1][:4])"
   ]
  },
  {
   "cell_type": "markdown",
   "id": "ef798a2c-bd27-425c-a4d4-a6f026875ff9",
   "metadata": {},
   "source": [
    "# Operators"
   ]
  },
  {
   "cell_type": "markdown",
   "id": "c5070417-b40f-4f40-950c-5b3ed931de6b",
   "metadata": {},
   "source": [
    "#### Arithmetic Operators"
   ]
  },
  {
   "cell_type": "code",
   "execution_count": 81,
   "id": "860ab206-a87b-4ded-b972-6427b0aa507a",
   "metadata": {},
   "outputs": [
    {
     "name": "stdout",
     "output_type": "stream",
     "text": [
      "plus:  9\n",
      "minus:  -5\n",
      "multi:  14\n",
      "div:  3.5\n",
      "modulus:  1\n",
      "exponential:  49\n"
     ]
    }
   ],
   "source": [
    "x = 2\n",
    "y = 7\n",
    "\n",
    "total = x + y\n",
    "print(\"plus: \", total)\n",
    "\n",
    "total = x -y\n",
    "print(\"minus: \", total)\n",
    "\n",
    "total = x * y\n",
    "print(\"multi: \", total)\n",
    "\n",
    "\n",
    "total = y / x\n",
    "print(\"div: \", total)\n",
    "\n",
    "total = y % x\n",
    "print(\"modulus: \", total)\n",
    "\n",
    "\n",
    "total = y**x\n",
    "print(\"exponential: \", total)"
   ]
  },
  {
   "cell_type": "markdown",
   "id": "f98bb7e2-31b6-4f84-b998-9613e4f0cb4b",
   "metadata": {},
   "source": [
    "#### Comparison Operators"
   ]
  },
  {
   "cell_type": "code",
   "execution_count": 86,
   "id": "83fffdff-bcc1-4eb1-a13e-1047e3cd13d6",
   "metadata": {},
   "outputs": [
    {
     "name": "stdout",
     "output_type": "stream",
     "text": [
      "Less than:  True\n",
      "Less than equal to:  True\n",
      "Greater than:  False\n",
      "Greater than  equal to:  False\n",
      "equals:  False\n",
      "not equals:  True\n"
     ]
    }
   ],
   "source": [
    "a = 30\n",
    "b = 60\n",
    "\n",
    "out = a < b\n",
    "print(\"Less than: \", out)\n",
    "\n",
    "out = a <= b\n",
    "print(\"Less than equal to: \", out)\n",
    "\n",
    "out = a > b\n",
    "print(\"Greater than: \", out)\n",
    "\n",
    "out = a >= b\n",
    "print(\"Greater than  equal to: \", out)\n",
    "\n",
    "out = a == b\n",
    "print(\"equals: \", out)\n",
    "\n",
    "out = a != b\n",
    "print(\"not equals: \", out)\n",
    "\n"
   ]
  },
  {
   "cell_type": "markdown",
   "id": "9f735676-d7fc-4182-922c-7c6783f7051d",
   "metadata": {},
   "source": [
    "#### Assignment Operators"
   ]
  },
  {
   "cell_type": "code",
   "execution_count": 97,
   "id": "b99dfcab-fd1f-4caf-ad95-f82ade9ff4a1",
   "metadata": {},
   "outputs": [
    {
     "name": "stdout",
     "output_type": "stream",
     "text": [
      "+=  10\n",
      "-=  0\n",
      "*=  20\n",
      "/=  0.2\n",
      "**=  4\n"
     ]
    }
   ],
   "source": [
    "c = 0\n",
    "d = 10\n",
    "\n",
    "c += d\n",
    "print(\"+= \", c)\n",
    "\n",
    "c -= d\n",
    "print(\"-= \", c)\n",
    "\n",
    "c = 2\n",
    "\n",
    "c *= d\n",
    "print(\"*= \", c)\n",
    "\n",
    "c = 2\n",
    "c /= d\n",
    "print(\"/= \", c)\n",
    "\n",
    "c = 2\n",
    "d = 2\n",
    "c **= d\n",
    "print(\"**= \", c)"
   ]
  },
  {
   "cell_type": "markdown",
   "id": "5fafafa8-abe5-4c25-a4fc-e479ef5c88e6",
   "metadata": {},
   "source": [
    "#### Logical Operators"
   ]
  },
  {
   "cell_type": "code",
   "execution_count": 102,
   "id": "3ea3a093-97e0-4d78-854f-278967d5f8b9",
   "metadata": {},
   "outputs": [
    {
     "name": "stdout",
     "output_type": "stream",
     "text": [
      "Or:  True\n",
      "And:  False\n",
      "Not:  False\n",
      "Not:  True\n"
     ]
    }
   ],
   "source": [
    "a = 40\n",
    "b = 60\n",
    "\n",
    "x = 2\n",
    "y = 3\n",
    "\n",
    "out = (a < b) or (x > y)\n",
    "print(\"Or: \", out)\n",
    "\n",
    "out = (a < b) and (x > y)\n",
    "print(\"And: \", out)\n",
    "\n",
    "out = not(x < y)\n",
    "print(\"Not: \", out)\n",
    "\n",
    "out = not(x > y)\n",
    "print(\"Not: \", out)"
   ]
  },
  {
   "cell_type": "markdown",
   "id": "bcf3a0aa-2b43-4a62-8c8b-d88fb15830d1",
   "metadata": {},
   "source": [
    "#### Membership Operators"
   ]
  },
  {
   "cell_type": "code",
   "execution_count": 113,
   "id": "b9cf74af-3896-4985-8c88-a3a619e86b64",
   "metadata": {},
   "outputs": [
    {
     "name": "stdout",
     "output_type": "stream",
     "text": [
      "DevOps in operator:  True\n",
      "DevOps not in operator:  False\n",
      "Dev in DevOps :  True\n",
      "67 in operator:  False\n",
      "67 not in operator:  True\n"
     ]
    }
   ],
   "source": [
    "tuple_eg = (str1, \"DevOps\", num1, 47, 1.5)\n",
    "\n",
    "ans = \"DevOps\" in tuple_eg\n",
    "print(\"DevOps in operator: \", ans)\n",
    "\n",
    "ans = \"DevOps\" not in tuple_eg\n",
    "print(\"DevOps not in operator: \", ans)\n",
    "\n",
    "\n",
    "ans = \"Dev\" in \"DevOps\"\n",
    "print(\"Dev in DevOps : \", ans)\n",
    "\n",
    "ans = 67 in tuple_eg\n",
    "print(\"67 in operator: \", ans)\n",
    "\n",
    "ans = 67 not in tuple_eg\n",
    "print(\"67 not in operator: \", ans)"
   ]
  },
  {
   "cell_type": "markdown",
   "id": "27b210a7-fa7a-442b-a749-e80cdd34d081",
   "metadata": {},
   "source": [
    "#### Identity Operators"
   ]
  },
  {
   "cell_type": "code",
   "execution_count": 112,
   "id": "9db7c053-25d3-4967-8507-38cc436f902e",
   "metadata": {},
   "outputs": [
    {
     "name": "stdout",
     "output_type": "stream",
     "text": [
      "a is b  False\n",
      "a is not b  True\n",
      "a is b  True\n",
      "a is not b  False\n"
     ]
    }
   ],
   "source": [
    "a = 12\n",
    "b = 15\n",
    "\n",
    "result = a is b\n",
    "print(\"a is b \", result)\n",
    "result = a is not b\n",
    "print(\"a is not b \", result)\n",
    "\n",
    "b = 12\n",
    "result = a is b\n",
    "print(\"a is b \", result)\n",
    "result = a is not b\n",
    "print(\"a is not b \", result)"
   ]
  },
  {
   "cell_type": "markdown",
   "id": "2b750bd5-d4f2-4686-90b7-1eb6f6aff9b0",
   "metadata": {},
   "source": [
    "# Conditional Statements"
   ]
  },
  {
   "cell_type": "markdown",
   "id": "70daf5cd-d8ae-4e9a-b92b-53dbf735b7c5",
   "metadata": {},
   "source": [
    "#### If, if else, if elif else"
   ]
  },
  {
   "cell_type": "code",
   "execution_count": 24,
   "id": "a916280b-74e8-4912-89a5-059c59773a8b",
   "metadata": {},
   "outputs": [
    {
     "name": "stdout",
     "output_type": "stream",
     "text": [
      "Inside EL IF block\n",
      "X is:  199\n"
     ]
    }
   ],
   "source": [
    "x = 199\n",
    "\n",
    "if x < 30:\n",
    "    print(\"Inside if block\")\n",
    "    print(\"X is: \",x)\n",
    "elif x < 200:\n",
    "    print(\"Inside EL IF block\")\n",
    "    print(\"X is: \",x)\n",
    "else:\n",
    "    print(\"Greater than 200\")\n",
    "    print(\"X is: \",x)\n",
    "    \n",
    "    "
   ]
  },
  {
   "cell_type": "code",
   "execution_count": 44,
   "id": "135e311c-65a0-4a44-9ecc-f57cec15bbf3",
   "metadata": {},
   "outputs": [
    {
     "name": "stdout",
     "output_type": "stream",
     "text": [
      "This IT organization has various skill sets\n",
      "Found your match\n",
      "Enter capitalized values: \n",
      "\n",
      "------------------------------------------------------------------------\n"
     ]
    },
    {
     "name": "stdin",
     "output_type": "stream",
     "text": [
      "Enter your desired skill:  java\n"
     ]
    },
    {
     "name": "stdout",
     "output_type": "stream",
     "text": [
      "Skill not found\n",
      "Please make sure you are entering capitalized values\n"
     ]
    }
   ],
   "source": [
    "print(\"This IT organization has various skill sets\")\n",
    "print(\"Found your match\")\n",
    "\n",
    "print(\"Enter capitalized values: \")\n",
    "\n",
    "DevOps = [\"Jenkins\", \"Ansible\", \"Bash\", \"Python\", \"Puppet\", \"Dockers\", \"Kuberneters\",\"Terraform\"]\n",
    "Development = (\"Nodejs\", \"Angularjs\", \"Java\", \".net\", \"Python\")\n",
    "\n",
    "cntr_emp1 = {\"Name\":\"Santa\", \"Skills\":\"Blockchain\", \"Code\":1024 }\n",
    "cntr_emp2 = {\"Name\":\"Rocky\", \"Skills\":\"AI\", \"Code\":1218 }\n",
    "\n",
    "\n",
    "print()\n",
    "print(\"------------------------------------------------------------------------\")\n",
    "usr_skill = input(\"Enter your desired skill: \")\n",
    "# print(usr_skill)\n",
    "\n",
    "if usr_skill in DevOps:\n",
    "    print(f\"We have {usr_skill} in devops team\")\n",
    "elif usr_skill in Development:\n",
    "    print(f\"We have {usr_skill} in development team\")\n",
    "elif (usr_skill in cntr_emp1.values()) or (usr_skill in cntr_emp2.values()):\n",
    "    print(f\"We have contract employess with skill: {usr_skill}\")\n",
    "else:\n",
    "    print(\"Skill not found\")\n",
    "    print(\"Please make sure you are entering capitalized values\")\n",
    "    "
   ]
  },
  {
   "cell_type": "markdown",
   "id": "1a219154-6a6e-48f6-93fa-1570f2366b51",
   "metadata": {},
   "source": [
    "# Loops"
   ]
  },
  {
   "cell_type": "markdown",
   "id": "0d6c3f5c-4ff3-4e10-8bd3-8274401d75b9",
   "metadata": {},
   "source": [
    "#### for loop"
   ]
  },
  {
   "cell_type": "code",
   "execution_count": 48,
   "id": "a14e0b26-3fd5-4e8e-aef7-bd1285b80da0",
   "metadata": {},
   "outputs": [
    {
     "name": "stdout",
     "output_type": "stream",
     "text": [
      "E\n",
      "a\n",
      "r\n",
      "t\n",
      "h\n"
     ]
    }
   ],
   "source": [
    "PLANET = \"Earth\"\n",
    "\n",
    "for i in PLANET:\n",
    "    print(i)"
   ]
  },
  {
   "cell_type": "code",
   "execution_count": 52,
   "id": "197eadf8-ccb1-4e50-95f7-2dec7930c4e1",
   "metadata": {},
   "outputs": [
    {
     "name": "stdout",
     "output_type": "stream",
     "text": [
      "Moderna provides immunization against Covid19\n",
      "Pfizer provides immunization against Covid19\n",
      "Sputnik v provides immunization against Covid19\n",
      "Covaxin provides immunization against Covid19\n",
      "AstraZeneca provides immunization against Covid19\n"
     ]
    }
   ],
   "source": [
    "VACCINES = (\"Moderna\", \"Pfizer\", \"Sputnik v\", \"Covaxin\", \"AstraZeneca\")\n",
    "\n",
    "for vac in VACCINES:\n",
    "    print(f\"{vac} provides immunization against Covid19\")"
   ]
  },
  {
   "cell_type": "code",
   "execution_count": 54,
   "id": "46b6a13c-2eaf-456c-9f78-151942eb06a8",
   "metadata": {},
   "outputs": [
    {
     "name": "stdout",
     "output_type": "stream",
     "text": [
      "Moderna provides immunization against Covid19\n",
      "Pfizer provides immunization against Covid19\n",
      "Sputnik v provides immunization against Covid19\n",
      "Covaxin provides immunization against Covid19\n",
      "AstraZeneca provides immunization against Covid19\n"
     ]
    }
   ],
   "source": [
    "VACCINES = [\"Moderna\", \"Pfizer\", \"Sputnik v\", \"Covaxin\", \"AstraZeneca\"]\n",
    "\n",
    "for vac in VACCINES:\n",
    "    print(f\"{vac} provides immunization against Covid19\")"
   ]
  },
  {
   "cell_type": "markdown",
   "id": "a7266b38-8e90-4792-bf2b-53874cb51a01",
   "metadata": {},
   "source": [
    "#### while loop"
   ]
  },
  {
   "cell_type": "code",
   "execution_count": 60,
   "id": "4e205e24-b825-4b3e-8b19-58802cf0654c",
   "metadata": {},
   "outputs": [
    {
     "name": "stdout",
     "output_type": "stream",
     "text": [
      "Value of x: 0\n",
      "Incremented x by 1\n",
      "Value of x: 1\n",
      "Incremented x by 1\n",
      "Value of x: 2\n",
      "Incremented x by 1\n",
      "Value of x: 3\n",
      "Incremented x by 1\n",
      "Value of x: 4\n",
      "Incremented x by 1\n"
     ]
    }
   ],
   "source": [
    "x = 0\n",
    "\n",
    "while x <=4:\n",
    "    print(f\"Value of x: {x}\")\n",
    "    x += 1\n",
    "    print(\"Incremented x by 1\")"
   ]
  },
  {
   "cell_type": "markdown",
   "id": "9224f2f4-95ca-4388-9927-2ee52f2a05a1",
   "metadata": {},
   "source": [
    "#### Nested for loop"
   ]
  },
  {
   "cell_type": "code",
   "execution_count": 63,
   "id": "315511b6-eb7d-4dab-a296-4ddcbae45caf",
   "metadata": {},
   "outputs": [
    {
     "name": "stdout",
     "output_type": "stream",
     "text": [
      "\n",
      "I would like to take: \n",
      "M\n",
      "o\n",
      "d\n",
      "e\n",
      "r\n",
      "n\n",
      "a\n",
      "\n",
      "I would like to take: \n",
      "P\n",
      "f\n",
      "i\n",
      "z\n",
      "e\n",
      "r\n",
      "\n",
      "I would like to take: \n",
      "S\n",
      "p\n",
      "u\n",
      "t\n",
      "n\n",
      "i\n",
      "k\n",
      " \n",
      "v\n",
      "\n",
      "I would like to take: \n",
      "C\n",
      "o\n",
      "v\n",
      "a\n",
      "x\n",
      "i\n",
      "n\n",
      "\n",
      "I would like to take: \n",
      "A\n",
      "s\n",
      "t\n",
      "r\n",
      "a\n",
      "Z\n",
      "e\n",
      "n\n",
      "e\n",
      "c\n",
      "a\n"
     ]
    }
   ],
   "source": [
    "VACCINES = (\"Moderna\", \"Pfizer\", \"Sputnik v\", \"Covaxin\", \"AstraZeneca\")\n",
    "\n",
    "for vac in VACCINES:\n",
    "    print()\n",
    "    print(\"I would like to take: \")\n",
    "    for i in vac:\n",
    "        print(i)"
   ]
  },
  {
   "cell_type": "code",
   "execution_count": 67,
   "id": "c6ca95c9-85bc-4685-9d56-b8cbe64a2bb7",
   "metadata": {},
   "outputs": [
    {
     "name": "stdout",
     "output_type": "stream",
     "text": [
      "Value of x: 2\n",
      "Value of x: 4\n",
      "Value of x: 8\n"
     ]
    }
   ],
   "source": [
    "import time\n",
    "\n",
    "x = 2\n",
    "\n",
    "while x < 15:\n",
    "    print(f\"Value of x: {x}\")\n",
    "    x *= 2\n",
    "    time.sleep(2)"
   ]
  },
  {
   "cell_type": "markdown",
   "id": "0cd4bc8d-a030-4faf-b06e-3f6cf382b57b",
   "metadata": {},
   "source": [
    "#### break and continue"
   ]
  },
  {
   "cell_type": "code",
   "execution_count": 76,
   "id": "faa93e28-69c6-4056-a33a-047034b8820f",
   "metadata": {},
   "outputs": [
    {
     "name": "stdout",
     "output_type": "stream",
     "text": [
      "D\n",
      "e\n",
      "v\n",
      "O\n",
      "Found: O\n",
      "Out of loop\n"
     ]
    }
   ],
   "source": [
    "for i in 'DevOps':\n",
    "    print(i)\n",
    "    if(i == 'O'):\n",
    "        print(\"Found:\", i)\n",
    "        break\n",
    "print(\"Out of loop\")"
   ]
  },
  {
   "cell_type": "code",
   "execution_count": 80,
   "id": "fed7ad03-52f4-40f3-bb4b-312a0264e0fc",
   "metadata": {},
   "outputs": [
    {
     "name": "stdout",
     "output_type": "stream",
     "text": [
      "D\n",
      "e\n",
      "v\n",
      "Found and skipped: O\n",
      "p\n",
      "s\n",
      "Out of loop\n"
     ]
    }
   ],
   "source": [
    "for i in 'DevOps':\n",
    "    if(i == 'O'):\n",
    "        print(\"Found and skipped:\", i)\n",
    "        continue\n",
    "    print(i)\n",
    "    \n",
    "print(\"Out of loop\")"
   ]
  },
  {
   "cell_type": "code",
   "execution_count": 138,
   "id": "6e6d224f-3131-462e-ba0a-b92da5d08788",
   "metadata": {},
   "outputs": [
    {
     "name": "stdout",
     "output_type": "stream",
     "text": [
      "************TESTING VACCINE Moderna\n",
      "\n",
      "Moderna Vaccine, test successful\n"
     ]
    }
   ],
   "source": [
    "import random\n",
    "\n",
    "VACCINES = [\"Moderna\", \"Pfizer\", \"Sputnik v\", \"Covaxin\", \"AstraZeneca\", \"CoronaVac\"]\n",
    "\n",
    "random.shuffle(VACCINES)\n",
    "\n",
    "# print(VACCINES)\n",
    "\n",
    "LUCKY = random.choice(VACCINES)\n",
    "# print(LUCKY)\n",
    "\n",
    "for vac in VACCINES:\n",
    "    print(f\"************TESTING VACCINE {vac}\")\n",
    "    if(vac == LUCKY):\n",
    "        print()\n",
    "        print(f\"{LUCKY} Vaccine, test successful\")\n",
    "        break\n"
   ]
  },
  {
   "cell_type": "code",
   "execution_count": 166,
   "id": "a55ae72b-144a-4e05-8e44-0cd25fb04dcc",
   "metadata": {},
   "outputs": [
    {
     "name": "stdout",
     "output_type": "stream",
     "text": [
      "************TESTING VACCINE Sputnik v\n",
      "Sputnik v - Vaccine, TEST SUCCESSFUL\n",
      "\n",
      "************TESTING VACCINE Pfizer\n",
      "Pfizer - TEST FAILED\n",
      "\n",
      "************TESTING VACCINE AstraZeneca\n",
      "AstraZeneca - TEST FAILED\n",
      "\n",
      "************TESTING VACCINE Covaxin\n",
      "Covaxin - TEST FAILED\n",
      "\n",
      "************TESTING VACCINE CoronaVac\n",
      "CoronaVac - TEST FAILED\n",
      "\n",
      "************TESTING VACCINE Moderna\n",
      "Moderna - TEST FAILED\n",
      "\n"
     ]
    }
   ],
   "source": [
    "import random\n",
    "\n",
    "VACCINES = [\"Moderna\", \"Pfizer\", \"Sputnik v\", \"Covaxin\", \"AstraZeneca\", \"CoronaVac\"]\n",
    "\n",
    "random.shuffle(VACCINES)\n",
    "\n",
    "# print(VACCINES)\n",
    "\n",
    "LUCKY = random.choice(VACCINES)\n",
    "# print(LUCKY)\n",
    "\n",
    "for vac in VACCINES:\n",
    "    print(f\"************TESTING VACCINE {vac}\")\n",
    "    if(vac == LUCKY):\n",
    "        print(f\"{LUCKY} - Vaccine, TEST SUCCESSFUL\")\n",
    "        print()\n",
    "        continue\n",
    "    print(f\"{vac} - TEST FAILED\")\n",
    "    print()"
   ]
  },
  {
   "cell_type": "markdown",
   "id": "2224dbfa-d5c1-406b-a441-d590b391c6e1",
   "metadata": {},
   "source": [
    "#### Some built-in string functions"
   ]
  },
  {
   "cell_type": "code",
   "execution_count": 216,
   "id": "6963ee2a-52a6-474d-8518-b5f3654c4448",
   "metadata": {},
   "outputs": [
    {
     "name": "stdout",
     "output_type": "stream",
     "text": [
      ".find(value) 18\n",
      "ready \n",
      ".find(value) -1\n",
      "\n",
      "upper():  CORONA VACCINE IS READY TO BE USED, MOST OF THEEM ARE MORE THAN 90% EFFECTIVE\n",
      "lower():  corona vaccine is ready to be used, most of theem are more than 90% effective\n",
      "\n",
      "islower():  True\n",
      "isupper():  False\n",
      "\n",
      "capitalize():  Corona vaccine is ready to be used, most of theem are more than 90% effective\n",
      "\n",
      "dir(variable):  ['__add__', '__class__', '__contains__', '__delattr__', '__dir__', '__doc__', '__eq__', '__format__', '__ge__', '__getattribute__', '__getitem__', '__getnewargs__', '__getstate__', '__gt__', '__hash__', '__init__', '__init_subclass__', '__iter__', '__le__', '__len__', '__lt__', '__mod__', '__mul__', '__ne__', '__new__', '__reduce__', '__reduce_ex__', '__repr__', '__rmod__', '__rmul__', '__setattr__', '__sizeof__', '__str__', '__subclasshook__', 'capitalize', 'casefold', 'center', 'count', 'encode', 'endswith', 'expandtabs', 'find', 'format', 'format_map', 'index', 'isalnum', 'isalpha', 'isascii', 'isdecimal', 'isdigit', 'isidentifier', 'islower', 'isnumeric', 'isprintable', 'isspace', 'istitle', 'isupper', 'join', 'ljust', 'lower', 'lstrip', 'maketrans', 'partition', 'removeprefix', 'removesuffix', 'replace', 'rfind', 'rindex', 'rjust', 'rpartition', 'rsplit', 'rstrip', 'split', 'splitlines', 'startswith', 'strip', 'swapcase', 'title', 'translate', 'upper', 'zfill']\n",
      "\n"
     ]
    }
   ],
   "source": [
    "message = \"corona vaccine is ready to be used, most of theem are more than 90% effective\"\n",
    "\n",
    "# print(message)\n",
    "\n",
    "# To find a substring. -1 if not found\n",
    "print(\".find(value)\", message.find(\"ready\"))\n",
    "print(message[18:24])\n",
    "print(\".find(value)\", message.find(\"readyAAAAA\"))\n",
    "print()\n",
    "\n",
    "# Makes everything in uppercase\n",
    "print(\"upper(): \",message.upper())\n",
    "print(\"lower(): \",message.lower())\n",
    "print()\n",
    "\n",
    "# To check upper or lowercase for everything\n",
    "print(\"islower(): \",message.islower())\n",
    "print(\"isupper(): \",message.isupper())\n",
    "print()\n",
    "\n",
    "# Makes first letter in uppercase\n",
    "print(\"capitalize(): \",message.capitalize())\n",
    "print()\n",
    "\n",
    "# to see available built-in functions\n",
    "print(\"dir(variable): \",dir(message))\n",
    "# print(\"dir(variable): \",dir([]))\n",
    "print()\n"
   ]
  },
  {
   "cell_type": "code",
   "execution_count": 225,
   "id": "e64a936e-8b44-4d6a-a535-40b180b900fa",
   "metadata": {},
   "outputs": [
    {
     "name": "stdout",
     "output_type": "stream",
     "text": [
      "192============168============40============90\n"
     ]
    }
   ],
   "source": [
    "seq1 = (\"192\", \"168\", \"40\", \"90\")\n",
    "\n",
    "print(\"============\".join(seq1))"
   ]
  },
  {
   "cell_type": "markdown",
   "id": "71cc8586-36e5-4350-8ec9-ee8201a2559e",
   "metadata": {},
   "source": [
    "#### Some List built-in functions"
   ]
  },
  {
   "cell_type": "code",
   "execution_count": 237,
   "id": "2f343f72-c7ab-477d-a0b5-f26ddb38acfa",
   "metadata": {},
   "outputs": [
    {
     "name": "stdout",
     "output_type": "stream",
     "text": [
      "Adding elements at the end of list\n",
      "['Everest', 'Himalaya', 'Sahyadri', 'Alps', 'K2', 'Mt Hood', 'Oregon Mount']\n",
      "\n",
      "Adding list at the end\n",
      "['Everest', 'Himalaya', 'Sahyadri', 'Alps', 'K2', 'Mt Hood', 'Oregon Mount', 'Mt Rainer', 'Satpuda']\n",
      "\n",
      "Inserting at a particular index\n",
      "['Everest', 'Himalaya', 'Mt Abu', 'Sahyadri', 'Alps', 'K2', 'Mt Hood', 'Oregon Mount', 'Mt Rainer', 'Satpuda']\n",
      "\n",
      "Deleting Last element of list\n",
      "['Everest', 'Himalaya', 'Mt Abu', 'Sahyadri', 'Alps', 'K2', 'Mt Hood', 'Oregon Mount', 'Mt Rainer']\n",
      "\n",
      "Deleting based on index of list\n",
      "['Everest', 'Himalaya', 'Mt Abu', 'Sahyadri', 'Alps', 'Mt Hood', 'Oregon Mount', 'Mt Rainer']\n",
      "\n"
     ]
    }
   ],
   "source": [
    "mountains = [\"Everest\", \"Himalaya\", \"Sahyadri\", \"Alps\", \"K2\", \"Mt Hood\"]\n",
    "\n",
    "\n",
    "print(\"Adding elements at the end of list\")\n",
    "mountains.append(\"Oregon Mount\")\n",
    "print(mountains)\n",
    "print()\n",
    "\n",
    "print(\"Adding list at the end\")\n",
    "mountains.extend([\"Mt Rainer\", \"Satpuda\"])\n",
    "print(mountains)\n",
    "print()\n",
    "\n",
    "print(\"Inserting at a particular index\")\n",
    "mountains.insert(2, \"Mt Abu\")\n",
    "print(mountains)\n",
    "print()\n",
    "\n",
    "\n",
    "print(\"Deleting Last element of list\")\n",
    "mountains.pop()\n",
    "print(mountains)\n",
    "print()\n",
    "\n",
    "print(\"Deleting based on index of list\")\n",
    "mountains.pop(5)\n",
    "print(mountains)\n",
    "print()\n"
   ]
  },
  {
   "cell_type": "markdown",
   "id": "6ce753fd-7656-4eb5-ae21-521fc973b294",
   "metadata": {},
   "source": [
    "#### Some Dict built-in functions"
   ]
  },
  {
   "cell_type": "code",
   "execution_count": 253,
   "id": "e1216682-daaa-46eb-80fe-b069a86823c2",
   "metadata": {},
   "outputs": [
    {
     "name": "stdout",
     "output_type": "stream",
     "text": [
      "Will return the keys\n",
      "dict_keys(['Name', 'Skills', 'Code'])\n",
      "\n",
      "Will return the values\n",
      "dict_values(['Santa', 'Blockchain', 1024])\n",
      "\n",
      "Will remove all values\n",
      "None\n",
      "\n",
      "Will remove last key value pair\n",
      "('Code', 1024)\n",
      "{'Name': 'Santa', 'Skills': 'Blockchain'}\n",
      "\n"
     ]
    }
   ],
   "source": [
    "cntr_emp1 = {\"Name\":\"Santa\", \"Skills\":\"Blockchain\", \"Code\":1024 }\n",
    "\n",
    "print(\"Will return the keys\")\n",
    "print(cntr_emp1.keys())\n",
    "print()\n",
    "\n",
    "print(\"Will return the values\")\n",
    "print(cntr_emp1.values())\n",
    "print()\n",
    "\n",
    "print(\"Will remove all values\")\n",
    "print(cntr_emp1.clear())\n",
    "print()\n",
    "\n",
    "cntr_emp1 = {\"Name\":\"Santa\", \"Skills\":\"Blockchain\", \"Code\":1024 }\n",
    "\n",
    "print(\"Will remove last key value pair\")\n",
    "print(cntr_emp1.popitem())\n",
    "print(cntr_emp1)\n",
    "print()\n"
   ]
  },
  {
   "cell_type": "markdown",
   "id": "bba925ea-aa50-457f-bed4-688311b15a9b",
   "metadata": {},
   "source": [
    "# Functions"
   ]
  },
  {
   "cell_type": "code",
   "execution_count": 262,
   "id": "6dd2e751-a0fc-4619-aec7-f25b58151cba",
   "metadata": {},
   "outputs": [
    {
     "name": "stdout",
     "output_type": "stream",
     "text": [
      "8\n",
      "30\n"
     ]
    }
   ],
   "source": [
    "def add(arg1, arg2):\n",
    "    total = arg1+arg2\n",
    "    return total\n",
    "\n",
    "out = add(5,3)\n",
    "print(out)\n",
    "print(add(10,20))"
   ]
  },
  {
   "cell_type": "code",
   "execution_count": 268,
   "id": "16b456b9-b1a4-4774-867d-6a4900fc355f",
   "metadata": {},
   "outputs": [
    {
     "name": "stdout",
     "output_type": "stream",
     "text": [
      "8\n",
      "30\n"
     ]
    }
   ],
   "source": [
    "def adder(arg1, arg2):\n",
    "    total = arg1+arg2\n",
    "    print(total)\n",
    "\n",
    "adder(5,3)\n",
    "adder(10,20)"
   ]
  },
  {
   "cell_type": "code",
   "execution_count": 284,
   "id": "11a191d6-fc3f-484f-8d82-0ed485d83ba8",
   "metadata": {},
   "outputs": [
    {
     "name": "stdout",
     "output_type": "stream",
     "text": [
      "10\n",
      "10\n",
      "\n"
     ]
    }
   ],
   "source": [
    "def summ(arg):\n",
    "    x = 0\n",
    "    for i in arg:\n",
    "        x += i\n",
    "    return x\n",
    "\n",
    "out = summ([1,2,3, 4])\n",
    "print(out)\n",
    "\n",
    "out = summ((1,2,3, 4))\n",
    "print(out)\n",
    "print()\n"
   ]
  },
  {
   "cell_type": "markdown",
   "id": "6eeef87a-bcd5-4689-8607-243078afcd5b",
   "metadata": {},
   "source": [
    "#### Default Arguments"
   ]
  },
  {
   "cell_type": "code",
   "execution_count": 293,
   "id": "89017cbb-db48-43bc-94c8-b1472fe3cc7a",
   "metadata": {},
   "outputs": [
    {
     "name": "stdout",
     "output_type": "stream",
     "text": [
      "Good EBENING\n",
      "Welcome to the function\n",
      "Good Morning\n",
      "Welcome to the function\n"
     ]
    }
   ],
   "source": [
    "def greeting(msg = \"Morning\"):\n",
    "    print(f\"Good {msg}\")\n",
    "    print(\"Welcome to the function\")\n",
    "\n",
    "greeting(\"EBENING\")\n",
    "greeting()\n"
   ]
  },
  {
   "cell_type": "code",
   "execution_count": 299,
   "id": "ee470cd7-7a03-48b8-bf98-890f013a34c9",
   "metadata": {},
   "outputs": [
    {
     "name": "stdout",
     "output_type": "stream",
     "text": [
      "Vaccine Pfizer is having efficacy of 95%\n",
      "Will take the shot\n",
      "\n",
      "Vaccine Unknown is having efficacy of 45%\n",
      "Needs many more trials\n",
      "\n",
      "Vaccine Reversing order is having efficacy of 69%\n",
      "Seems not so effective\n"
     ]
    }
   ],
   "source": [
    "def vac_feedback(vac, efficacy):\n",
    "    print(f\"Vaccine {vac} is having efficacy of {efficacy}%\")\n",
    "    \n",
    "    if(efficacy > 50 and efficacy <=75):\n",
    "        print(\"Seems not so effective\")\n",
    "    elif(efficacy > 75 and efficacy <=90):\n",
    "        print(\"Can consider this Vaccine\")\n",
    "    elif(efficacy >= 90):\n",
    "        print(\"Will take the shot\")\n",
    "    else:\n",
    "        print(\"Needs many more trials\")\n",
    "\n",
    "vac_feedback(\"Pfizer\", 95)\n",
    "print()\n",
    "vac_feedback(\"Unknown\", 45)\n",
    "print()\n",
    "\n",
    "vac_feedback(efficacy=69, vac=\"Reversing order\")"
   ]
  },
  {
   "cell_type": "markdown",
   "id": "c63c1be9-d045-4dfb-9750-00926de40133",
   "metadata": {},
   "source": [
    "#### n arguments function"
   ]
  },
  {
   "cell_type": "code",
   "execution_count": 588,
   "id": "3b24221d-3d24-4228-a440-f5a30417abd0",
   "metadata": {},
   "outputs": [
    {
     "name": "stdout",
     "output_type": "stream",
     "text": [
      "You have ordered Salad\n",
      "You have ordered Pizza\n",
      "You have ordered Biryani\n",
      "You have ordered Soup\n"
     ]
    }
   ],
   "source": [
    "# def order_food(min_order, *args):\n",
    "#     print(f\"You have ordered {min_order}\")\n",
    "#     # print(args)\n",
    "#     for item in args:\n",
    "#         print(f\"You have ordered {item}\")\n",
    "\n",
    "\n",
    "# order_food(\"Salad\", \"Pizza\", \"Biryani\", \"Soup\")\n",
    "    "
   ]
  },
  {
   "cell_type": "markdown",
   "id": "3f7643b1-06ca-4715-8ecb-00163d7eff84",
   "metadata": {},
   "source": [
    "#### func with *args (tuple) and **kwargs(dictionary)"
   ]
  },
  {
   "cell_type": "code",
   "execution_count": 538,
   "id": "281eac00-d6ee-4143-a8a6-f76c8fecee13",
   "metadata": {},
   "outputs": [
    {
     "name": "stdout",
     "output_type": "stream",
     "text": [
      "(10, 20, 10)\n",
      "{'hobby': 'Dance', 'sport': 'Boxing', 'fun': 'Driving', 'Work': 'Devops'}\n",
      "\n",
      "You have to spend 87 minutes on Boxing\n"
     ]
    }
   ],
   "source": [
    "import random\n",
    "\n",
    "def time_activity(*args, **kwargs):\n",
    "    print(args)\n",
    "    print(kwargs)\n",
    "    print()\n",
    "    \n",
    "    min = sum(args) + random.randint(0,50)\n",
    "    # print(min)\n",
    "\n",
    "    choice = random.choice(list(kwargs.keys()))\n",
    "    # print(choice)\n",
    "\n",
    "    print(f\"You have to spend {min} minutes on {kwargs[choice]}\")\n",
    "\n",
    "time_activity(10,20,10,hobby=\"Dance\", sport=\"Boxing\", fun=\"Driving\", Work=\"Devops\")"
   ]
  },
  {
   "cell_type": "markdown",
   "id": "8d8bc0aa-3666-4577-a3d0-098dff4dc0ba",
   "metadata": {},
   "source": [
    "# Modules"
   ]
  },
  {
   "cell_type": "markdown",
   "id": "75591563-0d02-47e3-97ad-5cff65cbe368",
   "metadata": {},
   "source": [
    "##### Have created a custommodule.py file in the same directory"
   ]
  },
  {
   "cell_type": "code",
   "execution_count": 7,
   "id": "18b49a5a-b1af-4dac-b270-b5740d52d486",
   "metadata": {},
   "outputs": [
    {
     "name": "stdout",
     "output_type": "stream",
     "text": [
      "Custom Module\n",
      "(10, 20, 10)\n",
      "{'hobby': 'Dance', 'sport': 'Boxing', 'fun': 'Driving', 'Work': 'Devops'}\n",
      "\n",
      "You have to spend 90 minutes on Boxing\n",
      "\n",
      "Custom Module\n",
      "You have ordered Salad\n",
      "You have ordered Pizza\n",
      "You have ordered Biryani\n",
      "You have ordered Soup\n",
      "\n",
      "['__builtins__', '__cached__', '__doc__', '__file__', '__loader__', '__name__', '__package__', '__spec__', 'order_food_CM', 'random', 'time_activity', 'vac_feedback']\n"
     ]
    }
   ],
   "source": [
    "import custommodule\n",
    "\n",
    "\n",
    "custommodule.time_activity(10,20,10,hobby=\"Dance\", sport=\"Boxing\", fun=\"Driving\", Work=\"Devops\")\n",
    "print()\n",
    "\n",
    "custommodule.order_food_CM(\"Salad\", \"Pizza\", \"Biryani\", \"Soup\")\n",
    "print()\n",
    "\n",
    "print(dir(custommodule))"
   ]
  },
  {
   "cell_type": "markdown",
   "id": "ae9f66fc-945b-4985-9f44-532ceadf1e0f",
   "metadata": {},
   "source": [
    "#### Another way to import"
   ]
  },
  {
   "cell_type": "code",
   "execution_count": 13,
   "id": "4006aa64-a742-4371-b2fb-48126ef12e0a",
   "metadata": {},
   "outputs": [
    {
     "name": "stdout",
     "output_type": "stream",
     "text": [
      "Custom Module\n",
      "You have ordered Salad\n",
      "You have ordered Pizza\n",
      "You have ordered Biryani\n",
      "You have ordered Soup\n",
      "\n"
     ]
    }
   ],
   "source": [
    "from custommodule import *\n",
    "\n",
    "order_food_CM(\"Salad\", \"Pizza\", \"Biryani\", \"Soup\")\n",
    "print()"
   ]
  },
  {
   "cell_type": "code",
   "execution_count": 1,
   "id": "0138a724-43f3-40a5-800d-cdf1b6131499",
   "metadata": {},
   "outputs": [
    {
     "name": "stdout",
     "output_type": "stream",
     "text": [
      "Custom Module\n",
      "You have ordered Salad\n",
      "You have ordered Pizza\n",
      "You have ordered Biryani\n",
      "You have ordered Soup\n",
      "\n"
     ]
    }
   ],
   "source": [
    "from custommodule import order_food_CM\n",
    "\n",
    "order_food_CM(\"Salad\", \"Pizza\", \"Biryani\", \"Soup\")\n",
    "print()"
   ]
  }
 ],
 "metadata": {
  "kernelspec": {
   "display_name": "Python [conda env:base] *",
   "language": "python",
   "name": "conda-base-py"
  },
  "language_info": {
   "codemirror_mode": {
    "name": "ipython",
    "version": 3
   },
   "file_extension": ".py",
   "mimetype": "text/x-python",
   "name": "python",
   "nbconvert_exporter": "python",
   "pygments_lexer": "ipython3",
   "version": "3.12.7"
  }
 },
 "nbformat": 4,
 "nbformat_minor": 5
}
